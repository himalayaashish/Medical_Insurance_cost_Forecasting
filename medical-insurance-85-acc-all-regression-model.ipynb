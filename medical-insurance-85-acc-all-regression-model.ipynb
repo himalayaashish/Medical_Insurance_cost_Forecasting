{
 "cells": [
  {
   "cell_type": "code",
   "execution_count": 1,
   "id": "c4a16fec",
   "metadata": {
    "execution": {
     "iopub.execute_input": "2021-09-16T22:06:28.227339Z",
     "iopub.status.busy": "2021-09-16T22:06:28.216629Z",
     "iopub.status.idle": "2021-09-16T22:06:31.009647Z",
     "shell.execute_reply": "2021-09-16T22:06:31.008965Z",
     "shell.execute_reply.started": "2021-09-16T21:42:31.199873Z"
    },
    "papermill": {
     "duration": 2.842608,
     "end_time": "2021-09-16T22:06:31.009809",
     "exception": false,
     "start_time": "2021-09-16T22:06:28.167201",
     "status": "completed"
    },
    "tags": []
   },
   "outputs": [
    {
     "data": {
      "text/html": [
       "<style type='text/css'>\n",
       ".datatable table.frame { margin-bottom: 0; }\n",
       ".datatable table.frame thead { border-bottom: none; }\n",
       ".datatable table.frame tr.coltypes td {  color: #FFFFFF;  line-height: 6px;  padding: 0 0.5em;}\n",
       ".datatable .bool    { background: #DDDD99; }\n",
       ".datatable .object  { background: #565656; }\n",
       ".datatable .int     { background: #5D9E5D; }\n",
       ".datatable .float   { background: #4040CC; }\n",
       ".datatable .str     { background: #CC4040; }\n",
       ".datatable .time    { background: #40CC40; }\n",
       ".datatable .row_index {  background: var(--jp-border-color3);  border-right: 1px solid var(--jp-border-color0);  color: var(--jp-ui-font-color3);  font-size: 9px;}\n",
       ".datatable .frame tbody td { text-align: left; }\n",
       ".datatable .frame tr.coltypes .row_index {  background: var(--jp-border-color0);}\n",
       ".datatable th:nth-child(2) { padding-left: 12px; }\n",
       ".datatable .hellipsis {  color: var(--jp-cell-editor-border-color);}\n",
       ".datatable .vellipsis {  background: var(--jp-layout-color0);  color: var(--jp-cell-editor-border-color);}\n",
       ".datatable .na {  color: var(--jp-cell-editor-border-color);  font-size: 80%;}\n",
       ".datatable .sp {  opacity: 0.25;}\n",
       ".datatable .footer { font-size: 9px; }\n",
       ".datatable .frame_dimensions {  background: var(--jp-border-color3);  border-top: 1px solid var(--jp-border-color0);  color: var(--jp-ui-font-color3);  display: inline-block;  opacity: 0.6;  padding: 1px 10px 1px 5px;}\n",
       "</style>\n"
      ],
      "text/plain": [
       "<IPython.core.display.HTML object>"
      ]
     },
     "metadata": {},
     "output_type": "display_data"
    }
   ],
   "source": [
    "import numpy as np\n",
    "import pandas as pd\n",
    "import matplotlib.pyplot as plt\n",
    "import seaborn as sns\n",
    "from sklearn.model_selection import train_test_split\n",
    "from sklearn.linear_model import LinearRegression, Ridge, Lasso, ElasticNet\n",
    "from sklearn.feature_selection import SelectFromModel\n",
    "from sklearn.svm import SVR\n",
    "from sklearn.neighbors import KNeighborsRegressor\n",
    "from sklearn.tree import DecisionTreeRegressor\n",
    "from sklearn.ensemble import RandomForestRegressor\n",
    "from sklearn.ensemble import AdaBoostRegressor\n",
    "from lightgbm import LGBMRegressor\n",
    "from xgboost import XGBRegressor\n",
    "from sklearn.model_selection import GridSearchCV\n",
    "from sklearn.metrics import mean_absolute_error,mean_squared_error,r2_score"
   ]
  },
  {
   "cell_type": "code",
   "execution_count": 2,
   "id": "3fce53ac",
   "metadata": {
    "execution": {
     "iopub.execute_input": "2021-09-16T22:06:31.089398Z",
     "iopub.status.busy": "2021-09-16T22:06:31.088660Z",
     "iopub.status.idle": "2021-09-16T22:06:31.115480Z",
     "shell.execute_reply": "2021-09-16T22:06:31.115995Z",
     "shell.execute_reply.started": "2021-09-16T21:42:35.812647Z"
    },
    "papermill": {
     "duration": 0.067645,
     "end_time": "2021-09-16T22:06:31.116179",
     "exception": false,
     "start_time": "2021-09-16T22:06:31.048534",
     "status": "completed"
    },
    "tags": []
   },
   "outputs": [],
   "source": [
    "df = pd.read_csv(\"/kaggle/input/insurance/insurance.csv\")"
   ]
  },
  {
   "cell_type": "code",
   "execution_count": 3,
   "id": "8e435d58",
   "metadata": {
    "execution": {
     "iopub.execute_input": "2021-09-16T22:06:31.195067Z",
     "iopub.status.busy": "2021-09-16T22:06:31.194402Z",
     "iopub.status.idle": "2021-09-16T22:06:31.214517Z",
     "shell.execute_reply": "2021-09-16T22:06:31.215137Z",
     "shell.execute_reply.started": "2021-09-16T21:42:36.015305Z"
    },
    "papermill": {
     "duration": 0.060584,
     "end_time": "2021-09-16T22:06:31.215315",
     "exception": false,
     "start_time": "2021-09-16T22:06:31.154731",
     "status": "completed"
    },
    "tags": []
   },
   "outputs": [
    {
     "data": {
      "text/html": [
       "<div>\n",
       "<style scoped>\n",
       "    .dataframe tbody tr th:only-of-type {\n",
       "        vertical-align: middle;\n",
       "    }\n",
       "\n",
       "    .dataframe tbody tr th {\n",
       "        vertical-align: top;\n",
       "    }\n",
       "\n",
       "    .dataframe thead th {\n",
       "        text-align: right;\n",
       "    }\n",
       "</style>\n",
       "<table border=\"1\" class=\"dataframe\">\n",
       "  <thead>\n",
       "    <tr style=\"text-align: right;\">\n",
       "      <th></th>\n",
       "      <th>age</th>\n",
       "      <th>sex</th>\n",
       "      <th>bmi</th>\n",
       "      <th>children</th>\n",
       "      <th>smoker</th>\n",
       "      <th>region</th>\n",
       "      <th>charges</th>\n",
       "    </tr>\n",
       "  </thead>\n",
       "  <tbody>\n",
       "    <tr>\n",
       "      <th>0</th>\n",
       "      <td>19</td>\n",
       "      <td>female</td>\n",
       "      <td>27.900</td>\n",
       "      <td>0</td>\n",
       "      <td>yes</td>\n",
       "      <td>southwest</td>\n",
       "      <td>16884.92400</td>\n",
       "    </tr>\n",
       "    <tr>\n",
       "      <th>1</th>\n",
       "      <td>18</td>\n",
       "      <td>male</td>\n",
       "      <td>33.770</td>\n",
       "      <td>1</td>\n",
       "      <td>no</td>\n",
       "      <td>southeast</td>\n",
       "      <td>1725.55230</td>\n",
       "    </tr>\n",
       "    <tr>\n",
       "      <th>2</th>\n",
       "      <td>28</td>\n",
       "      <td>male</td>\n",
       "      <td>33.000</td>\n",
       "      <td>3</td>\n",
       "      <td>no</td>\n",
       "      <td>southeast</td>\n",
       "      <td>4449.46200</td>\n",
       "    </tr>\n",
       "    <tr>\n",
       "      <th>3</th>\n",
       "      <td>33</td>\n",
       "      <td>male</td>\n",
       "      <td>22.705</td>\n",
       "      <td>0</td>\n",
       "      <td>no</td>\n",
       "      <td>northwest</td>\n",
       "      <td>21984.47061</td>\n",
       "    </tr>\n",
       "    <tr>\n",
       "      <th>4</th>\n",
       "      <td>32</td>\n",
       "      <td>male</td>\n",
       "      <td>28.880</td>\n",
       "      <td>0</td>\n",
       "      <td>no</td>\n",
       "      <td>northwest</td>\n",
       "      <td>3866.85520</td>\n",
       "    </tr>\n",
       "  </tbody>\n",
       "</table>\n",
       "</div>"
      ],
      "text/plain": [
       "   age     sex     bmi  children smoker     region      charges\n",
       "0   19  female  27.900         0    yes  southwest  16884.92400\n",
       "1   18    male  33.770         1     no  southeast   1725.55230\n",
       "2   28    male  33.000         3     no  southeast   4449.46200\n",
       "3   33    male  22.705         0     no  northwest  21984.47061\n",
       "4   32    male  28.880         0     no  northwest   3866.85520"
      ]
     },
     "execution_count": 3,
     "metadata": {},
     "output_type": "execute_result"
    }
   ],
   "source": [
    "df.head()"
   ]
  },
  {
   "cell_type": "markdown",
   "id": "6df52b87",
   "metadata": {
    "papermill": {
     "duration": 0.03625,
     "end_time": "2021-09-16T22:06:31.288197",
     "exception": false,
     "start_time": "2021-09-16T22:06:31.251947",
     "status": "completed"
    },
    "tags": []
   },
   "source": [
    "That's great, we don't have any null in our data"
   ]
  },
  {
   "cell_type": "markdown",
   "id": "15ab0e6c",
   "metadata": {
    "papermill": {
     "duration": 0.03605,
     "end_time": "2021-09-16T22:06:31.360876",
     "exception": false,
     "start_time": "2021-09-16T22:06:31.324826",
     "status": "completed"
    },
    "tags": []
   },
   "source": [
    "## EDA"
   ]
  },
  {
   "cell_type": "markdown",
   "id": "45bb5b88",
   "metadata": {
    "papermill": {
     "duration": 0.03605,
     "end_time": "2021-09-16T22:06:31.433694",
     "exception": false,
     "start_time": "2021-09-16T22:06:31.397644",
     "status": "completed"
    },
    "tags": []
   },
   "source": [
    "Let's check the distribution of age\n",
    "\n",
    "\n",
    "<img src=\"https://media2.giphy.com/media/8JrcyXvpOaFbFIatkm/giphy.gif?cid=ecf05e470s9jkirkdnrg7dmysp4jotghq8hkkrfu6niiword&rid=giphy.gif&ct=g\">"
   ]
  },
  {
   "cell_type": "code",
   "execution_count": 4,
   "id": "05643891",
   "metadata": {
    "execution": {
     "iopub.execute_input": "2021-09-16T22:06:31.511483Z",
     "iopub.status.busy": "2021-09-16T22:06:31.510835Z",
     "iopub.status.idle": "2021-09-16T22:06:31.853184Z",
     "shell.execute_reply": "2021-09-16T22:06:31.852517Z",
     "shell.execute_reply.started": "2021-09-16T21:42:36.713860Z"
    },
    "papermill": {
     "duration": 0.383448,
     "end_time": "2021-09-16T22:06:31.853328",
     "exception": false,
     "start_time": "2021-09-16T22:06:31.469880",
     "status": "completed"
    },
    "tags": []
   },
   "outputs": [
    {
     "name": "stderr",
     "output_type": "stream",
     "text": [
      "/opt/conda/lib/python3.7/site-packages/seaborn/distributions.py:2619: FutureWarning: `distplot` is a deprecated function and will be removed in a future version. Please adapt your code to use either `displot` (a figure-level function with similar flexibility) or `histplot` (an axes-level function for histograms).\n",
      "  warnings.warn(msg, FutureWarning)\n"
     ]
    },
    {
     "data": {
      "text/plain": [
       "Text(0.5, 1.0, 'Distribution of Age')"
      ]
     },
     "execution_count": 4,
     "metadata": {},
     "output_type": "execute_result"
    },
    {
     "data": {
      "text/plain": [
       "<Figure size 864x288 with 0 Axes>"
      ]
     },
     "metadata": {},
     "output_type": "display_data"
    },
    {
     "data": {
      "image/png": "[encoded data removed]",
      "text/plain": [
       "<Figure size 864x576 with 1 Axes>"
      ]
     },
     "metadata": {
      "needs_background": "light"
     },
     "output_type": "display_data"
    }
   ],
   "source": [
    "f= plt.figure(figsize=(12,4))\n",
    "f, ax = plt.subplots(1,1, figsize=(12, 8))\n",
    "ax = sns.distplot(df['age'], kde = True, color = 'r')\n",
    "plt.title('Distribution of Age')"
   ]
  },
  {
   "cell_type": "markdown",
   "id": "fdab6e4a",
   "metadata": {
    "papermill": {
     "duration": 0.038235,
     "end_time": "2021-09-16T22:06:31.930708",
     "exception": false,
     "start_time": "2021-09-16T22:06:31.892473",
     "status": "completed"
    },
    "tags": []
   },
   "source": []
  },
  {
   "cell_type": "code",
   "execution_count": 5,
   "id": "29fb9a0d",
   "metadata": {
    "execution": {
     "iopub.execute_input": "2021-09-16T22:06:32.014385Z",
     "iopub.status.busy": "2021-09-16T22:06:32.013537Z",
     "iopub.status.idle": "2021-09-16T22:06:32.358539Z",
     "shell.execute_reply": "2021-09-16T22:06:32.359047Z",
     "shell.execute_reply.started": "2021-09-16T21:42:37.100899Z"
    },
    "papermill": {
     "duration": 0.390029,
     "end_time": "2021-09-16T22:06:32.359238",
     "exception": false,
     "start_time": "2021-09-16T22:06:31.969209",
     "status": "completed"
    },
    "tags": []
   },
   "outputs": [
    {
     "name": "stderr",
     "output_type": "stream",
     "text": [
      "/opt/conda/lib/python3.7/site-packages/seaborn/distributions.py:2619: FutureWarning: `distplot` is a deprecated function and will be removed in a future version. Please adapt your code to use either `displot` (a figure-level function with similar flexibility) or `histplot` (an axes-level function for histograms).\n",
      "  warnings.warn(msg, FutureWarning)\n"
     ]
    },
    {
     "data": {
      "text/plain": [
       "Text(0.5, 1.0, 'Distribution of Insurance Charges')"
      ]
     },
     "execution_count": 5,
     "metadata": {},
     "output_type": "execute_result"
    },
    {
     "data": {
      "text/plain": [
       "<Figure size 864x288 with 0 Axes>"
      ]
     },
     "metadata": {},
     "output_type": "display_data"
    },
    {
     "data": {
      "image/png": "[encoded data removed]",
      "text/plain": [
       "<Figure size 864x576 with 1 Axes>"
      ]
     },
     "metadata": {
      "needs_background": "light"
     },
     "output_type": "display_data"
    }
   ],
   "source": [
    "f= plt.figure(figsize=(12,4))\n",
    "f, ax = plt.subplots(1,1, figsize=(12, 8))\n",
    "ax = sns.distplot(df['charges'], kde = True, color = 'c')\n",
    "plt.title('Distribution of Insurance Charges')"
   ]
  },
  {
   "cell_type": "markdown",
   "id": "1c975845",
   "metadata": {
    "papermill": {
     "duration": 0.040894,
     "end_time": "2021-09-16T22:06:32.441658",
     "exception": false,
     "start_time": "2021-09-16T22:06:32.400764",
     "status": "completed"
    },
    "tags": []
   },
   "source": [
    "Here is the distribution of our dependent variable \"y\" and we have a right-skewed distribution. To make it closer to normal we can apply natural log."
   ]
  },
  {
   "cell_type": "code",
   "execution_count": 6,
   "id": "cdc2bd8d",
   "metadata": {
    "execution": {
     "iopub.execute_input": "2021-09-16T22:06:32.528665Z",
     "iopub.status.busy": "2021-09-16T22:06:32.527995Z",
     "iopub.status.idle": "2021-09-16T22:06:32.809452Z",
     "shell.execute_reply": "2021-09-16T22:06:32.809956Z",
     "shell.execute_reply.started": "2021-09-16T21:42:38.376991Z"
    },
    "papermill": {
     "duration": 0.326119,
     "end_time": "2021-09-16T22:06:32.810142",
     "exception": false,
     "start_time": "2021-09-16T22:06:32.484023",
     "status": "completed"
    },
    "tags": []
   },
   "outputs": [
    {
     "name": "stderr",
     "output_type": "stream",
     "text": [
      "/opt/conda/lib/python3.7/site-packages/seaborn/distributions.py:2619: FutureWarning: `distplot` is a deprecated function and will be removed in a future version. Please adapt your code to use either `displot` (a figure-level function with similar flexibility) or `histplot` (an axes-level function for histograms).\n",
      "  warnings.warn(msg, FutureWarning)\n"
     ]
    },
    {
     "data": {
      "image/png": "[encoded data removed]",
      "text/plain": [
       "<Figure size 864x576 with 1 Axes>"
      ]
     },
     "metadata": {
      "needs_background": "light"
     },
     "output_type": "display_data"
    }
   ],
   "source": [
    "f, ax = plt.subplots(1, 1, figsize=(12, 8))\n",
    "ax = sns.distplot(np.log10(df['charges']), kde = True, color = 'r' )"
   ]
  },
  {
   "cell_type": "code",
   "execution_count": 7,
   "id": "6386cf0f",
   "metadata": {
    "execution": {
     "iopub.execute_input": "2021-09-16T22:06:32.897957Z",
     "iopub.status.busy": "2021-09-16T22:06:32.897324Z",
     "iopub.status.idle": "2021-09-16T22:06:33.109856Z",
     "shell.execute_reply": "2021-09-16T22:06:33.109206Z",
     "shell.execute_reply.started": "2021-09-16T21:42:38.684158Z"
    },
    "papermill": {
     "duration": 0.257694,
     "end_time": "2021-09-16T22:06:33.110011",
     "exception": false,
     "start_time": "2021-09-16T22:06:32.852317",
     "status": "completed"
    },
    "tags": []
   },
   "outputs": [
    {
     "name": "stderr",
     "output_type": "stream",
     "text": [
      "/opt/conda/lib/python3.7/site-packages/seaborn/_decorators.py:43: FutureWarning: Pass the following variables as keyword args: x, y. From version 0.12, the only valid positional argument will be `data`, and passing other arguments without an explicit keyword will result in an error or misinterpretation.\n",
      "  FutureWarning\n"
     ]
    },
    {
     "data": {
      "image/png": "[encoded data removed]",
      "text/plain": [
       "<Figure size 576x432 with 1 Axes>"
      ]
     },
     "metadata": {
      "needs_background": "light"
     },
     "output_type": "display_data"
    }
   ],
   "source": [
    "charges = df['charges'].groupby(df.region).sum().sort_values(ascending = True)\n",
    "f, ax = plt.subplots(1, 1, figsize=(8, 6))\n",
    "ax = sns.barplot(charges.head(), charges.head().index, palette='Blues')"
   ]
  },
  {
   "cell_type": "markdown",
   "id": "bc917736",
   "metadata": {
    "papermill": {
     "duration": 0.043005,
     "end_time": "2021-09-16T22:06:33.199077",
     "exception": false,
     "start_time": "2021-09-16T22:06:33.156072",
     "status": "completed"
    },
    "tags": []
   },
   "source": [
    "So Southeast has the highest medical charges  and Southwest has the lowest. Taking into account certain factors (sex, smoking, having children) let's see how it changes by region"
   ]
  },
  {
   "cell_type": "code",
   "execution_count": 8,
   "id": "4b6f3352",
   "metadata": {
    "execution": {
     "iopub.execute_input": "2021-09-16T22:06:33.317014Z",
     "iopub.status.busy": "2021-09-16T22:06:33.309463Z",
     "iopub.status.idle": "2021-09-16T22:06:33.844034Z",
     "shell.execute_reply": "2021-09-16T22:06:33.843351Z",
     "shell.execute_reply.started": "2021-09-16T21:42:38.917392Z"
    },
    "papermill": {
     "duration": 0.600125,
     "end_time": "2021-09-16T22:06:33.844176",
     "exception": false,
     "start_time": "2021-09-16T22:06:33.244051",
     "status": "completed"
    },
    "tags": []
   },
   "outputs": [
    {
     "data": {
      "image/png": "[encoded data removed]",
      "text/plain": [
       "<Figure size 864x576 with 1 Axes>"
      ]
     },
     "metadata": {
      "needs_background": "light"
     },
     "output_type": "display_data"
    }
   ],
   "source": [
    "f, ax = plt.subplots(1, 1, figsize=(12, 8))\n",
    "ax = sns.barplot(x='region', y='charges', hue='sex', data=df, palette='cool')"
   ]
  },
  {
   "cell_type": "markdown",
   "id": "0fc56ae1",
   "metadata": {
    "papermill": {
     "duration": 0.044239,
     "end_time": "2021-09-16T22:06:33.932861",
     "exception": false,
     "start_time": "2021-09-16T22:06:33.888622",
     "status": "completed"
    },
    "tags": []
   },
   "source": []
  },
  {
   "cell_type": "markdown",
   "id": "7367ab86",
   "metadata": {
    "papermill": {
     "duration": 0.044626,
     "end_time": "2021-09-16T22:06:34.021818",
     "exception": false,
     "start_time": "2021-09-16T22:06:33.977192",
     "status": "completed"
    },
    "tags": []
   },
   "source": [
    "Let's check the Smoker data.    Smokers are paying high charges \n",
    "\n",
    "\n",
    "<img src=\"https://64.media.tumblr.com/30e4148d71908c9d41c5888808e8b00b/tumblr_mzoql331JV1tohycao1_400.gifv\">"
   ]
  },
  {
   "cell_type": "code",
   "execution_count": 9,
   "id": "6779f9e8",
   "metadata": {
    "execution": {
     "iopub.execute_input": "2021-09-16T22:06:34.142066Z",
     "iopub.status.busy": "2021-09-16T22:06:34.140062Z",
     "iopub.status.idle": "2021-09-16T22:06:34.662875Z",
     "shell.execute_reply": "2021-09-16T22:06:34.663383Z",
     "shell.execute_reply.started": "2021-09-16T21:42:39.481263Z"
    },
    "papermill": {
     "duration": 0.596786,
     "end_time": "2021-09-16T22:06:34.663655",
     "exception": false,
     "start_time": "2021-09-16T22:06:34.066869",
     "status": "completed"
    },
    "tags": []
   },
   "outputs": [
    {
     "data": {
      "image/png": "[encoded data removed]",
      "text/plain": [
       "<Figure size 864x576 with 1 Axes>"
      ]
     },
     "metadata": {
      "needs_background": "light"
     },
     "output_type": "display_data"
    }
   ],
   "source": [
    "f, ax = plt.subplots(1,1, figsize=(12,8))\n",
    "ax = sns.barplot(x = 'region', y = 'charges',\n",
    "                 hue='smoker', data=df, palette='Reds_r')"
   ]
  },
  {
   "cell_type": "code",
   "execution_count": 10,
   "id": "d32c48b9",
   "metadata": {
    "execution": {
     "iopub.execute_input": "2021-09-16T22:06:34.786979Z",
     "iopub.status.busy": "2021-09-16T22:06:34.765085Z",
     "iopub.status.idle": "2021-09-16T22:06:35.895610Z",
     "shell.execute_reply": "2021-09-16T22:06:35.895073Z",
     "shell.execute_reply.started": "2021-09-16T21:42:41.627497Z"
    },
    "papermill": {
     "duration": 1.185408,
     "end_time": "2021-09-16T22:06:35.895764",
     "exception": false,
     "start_time": "2021-09-16T22:06:34.710356",
     "status": "completed"
    },
    "tags": []
   },
   "outputs": [
    {
     "data": {
      "image/png": "[encoded data removed]",
      "text/plain": [
       "<Figure size 864x576 with 1 Axes>"
      ]
     },
     "metadata": {
      "needs_background": "light"
     },
     "output_type": "display_data"
    }
   ],
   "source": [
    "f, ax = plt.subplots(1, 1, figsize=(12, 8))\n",
    "ax = sns.barplot(x='region', y='charges', hue='children', data=df, palette='Set1')"
   ]
  },
  {
   "cell_type": "markdown",
   "id": "971cdaf0",
   "metadata": {
    "papermill": {
     "duration": 0.046873,
     "end_time": "2021-09-16T22:06:35.993422",
     "exception": false,
     "start_time": "2021-09-16T22:06:35.946549",
     "status": "completed"
    },
    "tags": []
   },
   "source": [
    "As we can see from these barplots the highest charges due to smoking are still in the Southeast but the lowest are in the Northeast. People in the Southwest generally smoke more than people in the Northeast, but people in the Northeast have higher charges by gender than in the Southwest and Northwest overall. And people with children tend to have higher medical costs overall as well\n",
    "\n",
    "Now let's analyze the medical charges by age, bmi and children according to the smoking factor\n"
   ]
  },
  {
   "cell_type": "code",
   "execution_count": 11,
   "id": "bc51ef36",
   "metadata": {
    "execution": {
     "iopub.execute_input": "2021-09-16T22:06:36.101948Z",
     "iopub.status.busy": "2021-09-16T22:06:36.101256Z",
     "iopub.status.idle": "2021-09-16T22:06:38.493358Z",
     "shell.execute_reply": "2021-09-16T22:06:38.492698Z",
     "shell.execute_reply.started": "2021-09-16T21:42:43.441473Z"
    },
    "papermill": {
     "duration": 2.45411,
     "end_time": "2021-09-16T22:06:38.493499",
     "exception": false,
     "start_time": "2021-09-16T22:06:36.039389",
     "status": "completed"
    },
    "tags": []
   },
   "outputs": [
    {
     "data": {
      "image/png": "[encoded data removed]",
      "text/plain": [
       "<Figure size 413.25x360 with 1 Axes>"
      ]
     },
     "metadata": {
      "needs_background": "light"
     },
     "output_type": "display_data"
    },
    {
     "data": {
      "image/png": "[encoded data removed]",
      "text/plain": [
       "<Figure size 413.25x360 with 1 Axes>"
      ]
     },
     "metadata": {
      "needs_background": "light"
     },
     "output_type": "display_data"
    },
    {
     "data": {
      "image/png": "[encoded data removed]",
      "text/plain": [
       "<Figure size 413.25x360 with 1 Axes>"
      ]
     },
     "metadata": {
      "needs_background": "light"
     },
     "output_type": "display_data"
    }
   ],
   "source": [
    "ax = sns.lmplot(x = 'age', y = 'charges', data=df, hue='smoker', palette='Set1')\n",
    "ax = sns.lmplot(x = 'bmi', y = 'charges', data=df, hue='smoker', palette='Set2')\n",
    "ax = sns.lmplot(x = 'children', y = 'charges', data=df, hue='smoker', palette='Set3')"
   ]
  },
  {
   "cell_type": "markdown",
   "id": "7ebfe273",
   "metadata": {
    "papermill": {
     "duration": 0.049924,
     "end_time": "2021-09-16T22:06:38.593794",
     "exception": false,
     "start_time": "2021-09-16T22:06:38.543870",
     "status": "completed"
    },
    "tags": []
   },
   "source": [
    "Smoking has the highest impact on medical costs, even though the costs are growing with age, bmi and children. Also people who have children generally smoke less, which the following violinplots shows too"
   ]
  },
  {
   "cell_type": "code",
   "execution_count": 12,
   "id": "531c6ee3",
   "metadata": {
    "execution": {
     "iopub.execute_input": "2021-09-16T22:06:38.698453Z",
     "iopub.status.busy": "2021-09-16T22:06:38.697803Z",
     "iopub.status.idle": "2021-09-16T22:06:39.152843Z",
     "shell.execute_reply": "2021-09-16T22:06:39.153389Z",
     "shell.execute_reply.started": "2021-09-16T21:42:45.998906Z"
    },
    "papermill": {
     "duration": 0.508362,
     "end_time": "2021-09-16T22:06:39.153559",
     "exception": false,
     "start_time": "2021-09-16T22:06:38.645197",
     "status": "completed"
    },
    "tags": []
   },
   "outputs": [
    {
     "data": {
      "image/png": "[encoded data removed]",
      "text/plain": [
       "<Figure size 720x720 with 2 Axes>"
      ]
     },
     "metadata": {
      "needs_background": "light"
     },
     "output_type": "display_data"
    }
   ],
   "source": [
    "f, ax = plt.subplots(1, 1, figsize=(10, 10))\n",
    "ax = sns.heatmap(df.corr(), annot=True, cmap='cool')"
   ]
  },
  {
   "cell_type": "markdown",
   "id": "f2bdcc91",
   "metadata": {
    "papermill": {
     "duration": 0.05017,
     "end_time": "2021-09-16T22:06:39.254782",
     "exception": false,
     "start_time": "2021-09-16T22:06:39.204612",
     "status": "completed"
    },
    "tags": []
   },
   "source": [
    "# Feature scaling"
   ]
  },
  {
   "cell_type": "code",
   "execution_count": 13,
   "id": "9f066b67",
   "metadata": {
    "execution": {
     "iopub.execute_input": "2021-09-16T22:06:39.359191Z",
     "iopub.status.busy": "2021-09-16T22:06:39.358543Z",
     "iopub.status.idle": "2021-09-16T22:06:39.369646Z",
     "shell.execute_reply": "2021-09-16T22:06:39.369067Z",
     "shell.execute_reply.started": "2021-09-16T21:42:46.501625Z"
    },
    "papermill": {
     "duration": 0.0644,
     "end_time": "2021-09-16T22:06:39.369792",
     "exception": false,
     "start_time": "2021-09-16T22:06:39.305392",
     "status": "completed"
    },
    "tags": []
   },
   "outputs": [],
   "source": [
    "from sklearn.compose import make_column_transformer\n",
    "from sklearn.preprocessing import StandardScaler,OneHotEncoder"
   ]
  },
  {
   "cell_type": "code",
   "execution_count": 14,
   "id": "1e9941bf",
   "metadata": {
    "execution": {
     "iopub.execute_input": "2021-09-16T22:06:39.476529Z",
     "iopub.status.busy": "2021-09-16T22:06:39.475547Z",
     "iopub.status.idle": "2021-09-16T22:06:39.479657Z",
     "shell.execute_reply": "2021-09-16T22:06:39.480285Z",
     "shell.execute_reply.started": "2021-09-16T21:42:46.517693Z"
    },
    "papermill": {
     "duration": 0.059633,
     "end_time": "2021-09-16T22:06:39.480461",
     "exception": false,
     "start_time": "2021-09-16T22:06:39.420828",
     "status": "completed"
    },
    "tags": []
   },
   "outputs": [],
   "source": [
    "ct = make_column_transformer((\n",
    "    StandardScaler(),[\"age\",\"bmi\",\"children\"]),(OneHotEncoder(handle_unknown=\"ignore\"),[\"sex\",\"smoker\",\"region\"])\n",
    ")"
   ]
  },
  {
   "cell_type": "code",
   "execution_count": 15,
   "id": "e62cd678",
   "metadata": {
    "execution": {
     "iopub.execute_input": "2021-09-16T22:06:39.590157Z",
     "iopub.status.busy": "2021-09-16T22:06:39.589186Z",
     "iopub.status.idle": "2021-09-16T22:06:39.592297Z",
     "shell.execute_reply": "2021-09-16T22:06:39.592863Z",
     "shell.execute_reply.started": "2021-09-16T21:42:46.526013Z"
    },
    "papermill": {
     "duration": 0.060313,
     "end_time": "2021-09-16T22:06:39.593056",
     "exception": false,
     "start_time": "2021-09-16T22:06:39.532743",
     "status": "completed"
    },
    "tags": []
   },
   "outputs": [],
   "source": [
    "X = df.drop(\"charges\",axis=1)\n",
    "y = df[\"charges\"]"
   ]
  },
  {
   "cell_type": "code",
   "execution_count": 16,
   "id": "75b3ae12",
   "metadata": {
    "execution": {
     "iopub.execute_input": "2021-09-16T22:06:39.702433Z",
     "iopub.status.busy": "2021-09-16T22:06:39.701402Z",
     "iopub.status.idle": "2021-09-16T22:06:39.710586Z",
     "shell.execute_reply": "2021-09-16T22:06:39.710022Z",
     "shell.execute_reply.started": "2021-09-16T21:42:49.600407Z"
    },
    "papermill": {
     "duration": 0.06316,
     "end_time": "2021-09-16T22:06:39.710745",
     "exception": false,
     "start_time": "2021-09-16T22:06:39.647585",
     "status": "completed"
    },
    "tags": []
   },
   "outputs": [],
   "source": [
    "X_train,X_test, y_train, y_test = train_test_split(X,y,test_size=0.2,random_state=42)"
   ]
  },
  {
   "cell_type": "code",
   "execution_count": 17,
   "id": "ef8216d9",
   "metadata": {
    "execution": {
     "iopub.execute_input": "2021-09-16T22:06:39.831439Z",
     "iopub.status.busy": "2021-09-16T22:06:39.830768Z",
     "iopub.status.idle": "2021-09-16T22:06:39.840608Z",
     "shell.execute_reply": "2021-09-16T22:06:39.840059Z",
     "shell.execute_reply.started": "2021-09-16T21:42:50.568954Z"
    },
    "papermill": {
     "duration": 0.07545,
     "end_time": "2021-09-16T22:06:39.840749",
     "exception": false,
     "start_time": "2021-09-16T22:06:39.765299",
     "status": "completed"
    },
    "tags": []
   },
   "outputs": [
    {
     "data": {
      "text/plain": [
       "ColumnTransformer(transformers=[('standardscaler', StandardScaler(),\n",
       "                                 ['age', 'bmi', 'children']),\n",
       "                                ('onehotencoder',\n",
       "                                 OneHotEncoder(handle_unknown='ignore'),\n",
       "                                 ['sex', 'smoker', 'region'])])"
      ]
     },
     "execution_count": 17,
     "metadata": {},
     "output_type": "execute_result"
    }
   ],
   "source": [
    "ct.fit(X_train)"
   ]
  },
  {
   "cell_type": "code",
   "execution_count": 18,
   "id": "75ae290c",
   "metadata": {
    "execution": {
     "iopub.execute_input": "2021-09-16T22:06:39.955594Z",
     "iopub.status.busy": "2021-09-16T22:06:39.954888Z",
     "iopub.status.idle": "2021-09-16T22:06:39.965010Z",
     "shell.execute_reply": "2021-09-16T22:06:39.965543Z",
     "shell.execute_reply.started": "2021-09-16T21:42:58.762643Z"
    },
    "papermill": {
     "duration": 0.073321,
     "end_time": "2021-09-16T22:06:39.965722",
     "exception": false,
     "start_time": "2021-09-16T22:06:39.892401",
     "status": "completed"
    },
    "tags": []
   },
   "outputs": [],
   "source": [
    "X_train_normal = ct.transform(X_train)\n",
    "X_test_normal = ct.transform(X_test)"
   ]
  },
  {
   "cell_type": "markdown",
   "id": "0665770f",
   "metadata": {
    "papermill": {
     "duration": 0.05334,
     "end_time": "2021-09-16T22:06:40.071399",
     "exception": false,
     "start_time": "2021-09-16T22:06:40.018059",
     "status": "completed"
    },
    "tags": []
   },
   "source": [
    "To Solve this Regression problem we have multiple model like .. \n",
    "\n",
    "LinearRegression, \n",
    "Ridge, \n",
    "Lasso,\n",
    "DecisionTreeRegressor,\n",
    "KNeighborsRegressor,\n",
    "SVR,\n",
    "random_forest, \n",
    "AdaBoostRegressor, \n",
    "XGBRegressor,\n",
    "LGBMRegressor,\n",
    "\n",
    "And we have deep learning models also ... How to decide best among them ....\n"
   ]
  },
  {
   "cell_type": "markdown",
   "id": "72aed22a",
   "metadata": {
    "papermill": {
     "duration": 0.054149,
     "end_time": "2021-09-16T22:06:40.177038",
     "exception": false,
     "start_time": "2021-09-16T22:06:40.122889",
     "status": "completed"
    },
    "tags": []
   },
   "source": [
    "<img src=\"https://64.media.tumblr.com/3d343789f4fea02d39f249fa9c3703f0/tumblr_n156u4CNjE1tstqaho1_500.gifv\">"
   ]
  },
  {
   "cell_type": "markdown",
   "id": "6eae92b6",
   "metadata": {
    "papermill": {
     "duration": 0.051225,
     "end_time": "2021-09-16T22:06:40.280193",
     "exception": false,
     "start_time": "2021-09-16T22:06:40.228968",
     "status": "completed"
    },
    "tags": []
   },
   "source": [
    "We will take help of grid search"
   ]
  },
  {
   "cell_type": "code",
   "execution_count": 19,
   "id": "877dabf4",
   "metadata": {
    "execution": {
     "iopub.execute_input": "2021-09-16T22:06:40.398395Z",
     "iopub.status.busy": "2021-09-16T22:06:40.397671Z",
     "iopub.status.idle": "2021-09-16T22:06:40.399968Z",
     "shell.execute_reply": "2021-09-16T22:06:40.400412Z",
     "shell.execute_reply.started": "2021-09-16T21:43:05.137772Z"
    },
    "papermill": {
     "duration": 0.069374,
     "end_time": "2021-09-16T22:06:40.400639",
     "exception": false,
     "start_time": "2021-09-16T22:06:40.331265",
     "status": "completed"
    },
    "tags": []
   },
   "outputs": [],
   "source": [
    "model_param = {\n",
    "    'LinearRegression':{\n",
    "        'model' : LinearRegression(),\n",
    "        'param' : {}\n",
    "    },\n",
    "    'Ridge':{\n",
    "        'model' : Ridge(),\n",
    "        'param' : {\n",
    "            'alpha': [0.5,0.75]\n",
    "        }\n",
    "    },\n",
    "    'Lasso':{\n",
    "        'model' : Lasso(fit_intercept=True, normalize=False, precompute=False,warm_start=False, positive=False, random_state=None, selection='cyclic'),\n",
    "        'param' : {\n",
    "            'alpha': [0.2, 0.3,0.5],\n",
    "            'tol':[0.0001,0.001, 0.01, 0.1]\n",
    "        }\n",
    "    },\n",
    "    'DecisionTreeRegressor':{\n",
    "        'model':DecisionTreeRegressor(),\n",
    "        'param':{\n",
    "            'criterion': ['mse', 'friedman_mse', 'mae']\n",
    "        }\n",
    "    },\n",
    "    'KNeighborsRegressor':{\n",
    "        'model': KNeighborsRegressor(),\n",
    "        'param':{\n",
    "            'n_neighbors':[5,10,15,20,25]\n",
    "        }\n",
    "    },\n",
    "    'SVR':{\n",
    "        'model': SVR(),\n",
    "        'param': {\n",
    "            'kernel':['linear', 'poly', 'rbf', 'sigmoid'],\n",
    "            'C':[1,5,10,20,30,50,80,100]\n",
    "        }\n",
    "    },\n",
    "    'random_forest': {\n",
    "        'model': RandomForestRegressor(),\n",
    "        'param' : {\n",
    "            'criterion': ['mse','mae'],\n",
    "            'n_estimators': [1000,1200,1500,2000,3000]\n",
    "        }\n",
    "    },\n",
    "    'AdaBoostRegressor':{\n",
    "        'model': AdaBoostRegressor(),\n",
    "        'param':{\n",
    "            \"n_estimators\": [1, 10,100],\n",
    "            'learning_rate':[.001,0.01,.1]\n",
    "        }\n",
    "    },\n",
    "    'XGBRegressor':{\n",
    "        'model' : XGBRegressor(),\n",
    "        'param':{\n",
    "            'booster': ['gbtree','dart'],\n",
    "            'gamma': [0.5, 1, 1.5, 2, 5],\n",
    "            'max_depth': [3, 4, 5]\n",
    "        }\n",
    "    },\n",
    "    'lgb':{\n",
    "        'model':LGBMRegressor(),\n",
    "        'param':{'learning_rate': [0.01], 'n_estimators': [8, 24],\n",
    "                   'num_leaves': [6, 8, 12, 16], 'boosting_type': ['gbdt'], \n",
    "                   'objective': ['binary'], 'seed': [500],\n",
    "                   'colsample_bytree': [0.65, 0.75, 0.8], \n",
    "                   'subsample': [0.7, 0.75], 'reg_alpha': [1, 2, 6],\n",
    "                   'reg_lambda': [1, 2, 6]\n",
    "                 }\n",
    "    }\n",
    "}"
   ]
  },
  {
   "cell_type": "code",
   "execution_count": 20,
   "id": "6bac06c8",
   "metadata": {
    "execution": {
     "iopub.execute_input": "2021-09-16T22:06:40.515734Z",
     "iopub.status.busy": "2021-09-16T22:06:40.512108Z",
     "iopub.status.idle": "2021-09-16T22:25:06.799392Z",
     "shell.execute_reply": "2021-09-16T22:25:06.800339Z",
     "shell.execute_reply.started": "2021-09-16T21:43:10.153197Z"
    },
    "papermill": {
     "duration": 1106.348371,
     "end_time": "2021-09-16T22:25:06.800570",
     "exception": false,
     "start_time": "2021-09-16T22:06:40.452199",
     "status": "completed"
    },
    "tags": []
   },
   "outputs": [],
   "source": [
    "import warnings\n",
    "warnings.filterwarnings('ignore')\n",
    "\n",
    "scores =[]\n",
    "for model_name, mp in model_param.items():\n",
    "    model_selection = GridSearchCV(estimator=mp['model'],param_grid=mp['param'],cv=5,return_train_score=False)\n",
    "    model_selection.fit(X_train_normal,y_train)\n",
    "    scores.append({\n",
    "        'model': model_name,\n",
    "        'best_score': model_selection.best_score_,\n",
    "        'best_params': model_selection.best_params_\n",
    "    })"
   ]
  },
  {
   "cell_type": "code",
   "execution_count": 21,
   "id": "940acb83",
   "metadata": {
    "execution": {
     "iopub.execute_input": "2021-09-16T22:25:06.915963Z",
     "iopub.status.busy": "2021-09-16T22:25:06.915289Z",
     "iopub.status.idle": "2021-09-16T22:25:06.926839Z",
     "shell.execute_reply": "2021-09-16T22:25:06.926337Z",
     "shell.execute_reply.started": "2021-09-16T22:01:56.972583Z"
    },
    "papermill": {
     "duration": 0.072687,
     "end_time": "2021-09-16T22:25:06.927002",
     "exception": false,
     "start_time": "2021-09-16T22:25:06.854315",
     "status": "completed"
    },
    "tags": []
   },
   "outputs": [
    {
     "data": {
      "text/html": [
       "<div>\n",
       "<style scoped>\n",
       "    .dataframe tbody tr th:only-of-type {\n",
       "        vertical-align: middle;\n",
       "    }\n",
       "\n",
       "    .dataframe tbody tr th {\n",
       "        vertical-align: top;\n",
       "    }\n",
       "\n",
       "    .dataframe thead th {\n",
       "        text-align: right;\n",
       "    }\n",
       "</style>\n",
       "<table border=\"1\" class=\"dataframe\">\n",
       "  <thead>\n",
       "    <tr style=\"text-align: right;\">\n",
       "      <th></th>\n",
       "      <th>model</th>\n",
       "      <th>best_score</th>\n",
       "      <th>best_params</th>\n",
       "    </tr>\n",
       "  </thead>\n",
       "  <tbody>\n",
       "    <tr>\n",
       "      <th>0</th>\n",
       "      <td>LinearRegression</td>\n",
       "      <td>0.733040</td>\n",
       "      <td>{}</td>\n",
       "    </tr>\n",
       "    <tr>\n",
       "      <th>1</th>\n",
       "      <td>Ridge</td>\n",
       "      <td>0.733137</td>\n",
       "      <td>{'alpha': 0.75}</td>\n",
       "    </tr>\n",
       "    <tr>\n",
       "      <th>2</th>\n",
       "      <td>Lasso</td>\n",
       "      <td>0.733132</td>\n",
       "      <td>{'alpha': 0.5, 'tol': 0.1}</td>\n",
       "    </tr>\n",
       "    <tr>\n",
       "      <th>3</th>\n",
       "      <td>DecisionTreeRegressor</td>\n",
       "      <td>0.711414</td>\n",
       "      <td>{'criterion': 'friedman_mse'}</td>\n",
       "    </tr>\n",
       "    <tr>\n",
       "      <th>4</th>\n",
       "      <td>KNeighborsRegressor</td>\n",
       "      <td>0.753616</td>\n",
       "      <td>{'n_neighbors': 5}</td>\n",
       "    </tr>\n",
       "    <tr>\n",
       "      <th>5</th>\n",
       "      <td>SVR</td>\n",
       "      <td>0.556230</td>\n",
       "      <td>{'C': 100, 'kernel': 'linear'}</td>\n",
       "    </tr>\n",
       "    <tr>\n",
       "      <th>6</th>\n",
       "      <td>random_forest</td>\n",
       "      <td>0.829540</td>\n",
       "      <td>{'criterion': 'mse', 'n_estimators': 3000}</td>\n",
       "    </tr>\n",
       "    <tr>\n",
       "      <th>7</th>\n",
       "      <td>AdaBoostRegressor</td>\n",
       "      <td>0.841148</td>\n",
       "      <td>{'learning_rate': 0.001, 'n_estimators': 100}</td>\n",
       "    </tr>\n",
       "    <tr>\n",
       "      <th>8</th>\n",
       "      <td>XGBRegressor</td>\n",
       "      <td>0.825215</td>\n",
       "      <td>{'booster': 'dart', 'gamma': 0.5, 'max_depth': 3}</td>\n",
       "    </tr>\n",
       "    <tr>\n",
       "      <th>9</th>\n",
       "      <td>lgb</td>\n",
       "      <td>-1.242024</td>\n",
       "      <td>{'boosting_type': 'gbdt', 'colsample_bytree': ...</td>\n",
       "    </tr>\n",
       "  </tbody>\n",
       "</table>\n",
       "</div>"
      ],
      "text/plain": [
       "                   model  best_score  \\\n",
       "0       LinearRegression    0.733040   \n",
       "1                  Ridge    0.733137   \n",
       "2                  Lasso    0.733132   \n",
       "3  DecisionTreeRegressor    0.711414   \n",
       "4    KNeighborsRegressor    0.753616   \n",
       "5                    SVR    0.556230   \n",
       "6          random_forest    0.829540   \n",
       "7      AdaBoostRegressor    0.841148   \n",
       "8           XGBRegressor    0.825215   \n",
       "9                    lgb   -1.242024   \n",
       "\n",
       "                                         best_params  \n",
       "0                                                 {}  \n",
       "1                                    {'alpha': 0.75}  \n",
       "2                         {'alpha': 0.5, 'tol': 0.1}  \n",
       "3                      {'criterion': 'friedman_mse'}  \n",
       "4                                 {'n_neighbors': 5}  \n",
       "5                     {'C': 100, 'kernel': 'linear'}  \n",
       "6         {'criterion': 'mse', 'n_estimators': 3000}  \n",
       "7      {'learning_rate': 0.001, 'n_estimators': 100}  \n",
       "8  {'booster': 'dart', 'gamma': 0.5, 'max_depth': 3}  \n",
       "9  {'boosting_type': 'gbdt', 'colsample_bytree': ...  "
      ]
     },
     "execution_count": 21,
     "metadata": {},
     "output_type": "execute_result"
    }
   ],
   "source": [
    "df_model_score = pd.DataFrame(scores,columns=['model','best_score','best_params'])\n",
    "df_model_score"
   ]
  },
  {
   "cell_type": "code",
   "execution_count": 22,
   "id": "aca16d6f",
   "metadata": {
    "execution": {
     "iopub.execute_input": "2021-09-16T22:25:07.035977Z",
     "iopub.status.busy": "2021-09-16T22:25:07.035275Z",
     "iopub.status.idle": "2021-09-16T22:25:07.036785Z",
     "shell.execute_reply": "2021-09-16T22:25:07.037243Z",
     "shell.execute_reply.started": "2021-09-16T22:02:45.804031Z"
    },
    "papermill": {
     "duration": 0.058439,
     "end_time": "2021-09-16T22:25:07.037423",
     "exception": false,
     "start_time": "2021-09-16T22:25:06.978984",
     "status": "completed"
    },
    "tags": []
   },
   "outputs": [],
   "source": [
    "AdaBoostRegressor = AdaBoostRegressor(learning_rate= 0.001, n_estimators= 100)"
   ]
  },
  {
   "cell_type": "code",
   "execution_count": 23,
   "id": "43b372b6",
   "metadata": {
    "execution": {
     "iopub.execute_input": "2021-09-16T22:25:07.145749Z",
     "iopub.status.busy": "2021-09-16T22:25:07.145099Z",
     "iopub.status.idle": "2021-09-16T22:25:07.409805Z",
     "shell.execute_reply": "2021-09-16T22:25:07.410350Z",
     "shell.execute_reply.started": "2021-09-16T22:02:47.404175Z"
    },
    "papermill": {
     "duration": 0.32126,
     "end_time": "2021-09-16T22:25:07.410527",
     "exception": false,
     "start_time": "2021-09-16T22:25:07.089267",
     "status": "completed"
    },
    "tags": []
   },
   "outputs": [
    {
     "data": {
      "text/plain": [
       "AdaBoostRegressor(learning_rate=0.001, n_estimators=100)"
      ]
     },
     "execution_count": 23,
     "metadata": {},
     "output_type": "execute_result"
    }
   ],
   "source": [
    "AdaBoostRegressor.fit(X_train_normal,y_train)"
   ]
  },
  {
   "cell_type": "code",
   "execution_count": 24,
   "id": "8b8db20c",
   "metadata": {
    "execution": {
     "iopub.execute_input": "2021-09-16T22:25:07.522066Z",
     "iopub.status.busy": "2021-09-16T22:25:07.520970Z",
     "iopub.status.idle": "2021-09-16T22:25:07.533297Z",
     "shell.execute_reply": "2021-09-16T22:25:07.533841Z",
     "shell.execute_reply.started": "2021-09-16T22:02:53.236060Z"
    },
    "papermill": {
     "duration": 0.070436,
     "end_time": "2021-09-16T22:25:07.534061",
     "exception": false,
     "start_time": "2021-09-16T22:25:07.463625",
     "status": "completed"
    },
    "tags": []
   },
   "outputs": [],
   "source": [
    "y_pred_ada = AdaBoostRegressor.predict(X_test_normal)"
   ]
  },
  {
   "cell_type": "code",
   "execution_count": 25,
   "id": "ab1ecce3",
   "metadata": {
    "execution": {
     "iopub.execute_input": "2021-09-16T22:25:07.644211Z",
     "iopub.status.busy": "2021-09-16T22:25:07.643478Z",
     "iopub.status.idle": "2021-09-16T22:25:07.958145Z",
     "shell.execute_reply": "2021-09-16T22:25:07.957277Z",
     "shell.execute_reply.started": "2021-09-16T22:02:55.548005Z"
    },
    "papermill": {
     "duration": 0.371861,
     "end_time": "2021-09-16T22:25:07.958290",
     "exception": false,
     "start_time": "2021-09-16T22:25:07.586429",
     "status": "completed"
    },
    "tags": []
   },
   "outputs": [
    {
     "data": {
      "text/plain": [
       "<AxesSubplot:xlabel='charges', ylabel='Density'>"
      ]
     },
     "execution_count": 25,
     "metadata": {},
     "output_type": "execute_result"
    },
    {
     "data": {
      "image/png": "[encoded data removed]",
      "text/plain": [
       "<Figure size 432x288 with 1 Axes>"
      ]
     },
     "metadata": {
      "needs_background": "light"
     },
     "output_type": "display_data"
    }
   ],
   "source": [
    "sns.distplot(y_pred_ada-y_test)"
   ]
  },
  {
   "cell_type": "code",
   "execution_count": 26,
   "id": "af6fe418",
   "metadata": {
    "execution": {
     "iopub.execute_input": "2021-09-16T22:25:08.074035Z",
     "iopub.status.busy": "2021-09-16T22:25:08.073240Z",
     "iopub.status.idle": "2021-09-16T22:25:08.076310Z",
     "shell.execute_reply": "2021-09-16T22:25:08.076781Z",
     "shell.execute_reply.started": "2021-09-16T22:03:13.706627Z"
    },
    "papermill": {
     "duration": 0.06383,
     "end_time": "2021-09-16T22:25:08.076960",
     "exception": false,
     "start_time": "2021-09-16T22:25:08.013130",
     "status": "completed"
    },
    "tags": []
   },
   "outputs": [
    {
     "data": {
      "text/plain": [
       "2882.820688480914"
      ]
     },
     "execution_count": 26,
     "metadata": {},
     "output_type": "execute_result"
    }
   ],
   "source": [
    "Abd_mae = mean_absolute_error(y_test,y_pred_ada)\n",
    "Abd_mae"
   ]
  },
  {
   "cell_type": "markdown",
   "id": "6ece0057",
   "metadata": {
    "papermill": {
     "duration": 0.055363,
     "end_time": "2021-09-16T22:25:08.185991",
     "exception": false,
     "start_time": "2021-09-16T22:25:08.130628",
     "status": "completed"
    },
    "tags": []
   },
   "source": [
    "### Appling deep earning approach"
   ]
  },
  {
   "cell_type": "code",
   "execution_count": 27,
   "id": "15109a62",
   "metadata": {
    "execution": {
     "iopub.execute_input": "2021-09-16T22:25:08.298339Z",
     "iopub.status.busy": "2021-09-16T22:25:08.297462Z",
     "iopub.status.idle": "2021-09-16T22:25:14.114065Z",
     "shell.execute_reply": "2021-09-16T22:25:14.113060Z",
     "shell.execute_reply.started": "2021-09-16T22:03:18.765988Z"
    },
    "papermill": {
     "duration": 5.87386,
     "end_time": "2021-09-16T22:25:14.114221",
     "exception": false,
     "start_time": "2021-09-16T22:25:08.240361",
     "status": "completed"
    },
    "tags": []
   },
   "outputs": [
    {
     "name": "stderr",
     "output_type": "stream",
     "text": [
      "2021-09-16 22:25:08.980240: W tensorflow/stream_executor/platform/default/dso_loader.cc:60] Could not load dynamic library 'libcudart.so.11.0'; dlerror: libcudart.so.11.0: cannot open shared object file: No such file or directory; LD_LIBRARY_PATH: /opt/conda/lib\n",
      "2021-09-16 22:25:08.980359: I tensorflow/stream_executor/cuda/cudart_stub.cc:29] Ignore above cudart dlerror if you do not have a GPU set up on your machine.\n"
     ]
    }
   ],
   "source": [
    "import tensorflow as tf\n",
    "import numpy as np"
   ]
  },
  {
   "cell_type": "code",
   "execution_count": 28,
   "id": "96360054",
   "metadata": {
    "execution": {
     "iopub.execute_input": "2021-09-16T22:25:14.229525Z",
     "iopub.status.busy": "2021-09-16T22:25:14.228352Z",
     "iopub.status.idle": "2021-09-16T22:25:14.230382Z",
     "shell.execute_reply": "2021-09-16T22:25:14.230903Z",
     "shell.execute_reply.started": "2021-09-16T22:03:24.422453Z"
    },
    "papermill": {
     "duration": 0.062665,
     "end_time": "2021-09-16T22:25:14.231113",
     "exception": false,
     "start_time": "2021-09-16T22:25:14.168448",
     "status": "completed"
    },
    "tags": []
   },
   "outputs": [],
   "source": [
    "tf.random.set_seed(42)"
   ]
  },
  {
   "cell_type": "code",
   "execution_count": 29,
   "id": "7600adfb",
   "metadata": {
    "execution": {
     "iopub.execute_input": "2021-09-16T22:25:14.348749Z",
     "iopub.status.busy": "2021-09-16T22:25:14.345513Z",
     "iopub.status.idle": "2021-09-16T22:25:14.419581Z",
     "shell.execute_reply": "2021-09-16T22:25:14.420295Z",
     "shell.execute_reply.started": "2021-09-16T22:03:24.430084Z"
    },
    "papermill": {
     "duration": 0.132521,
     "end_time": "2021-09-16T22:25:14.420535",
     "exception": false,
     "start_time": "2021-09-16T22:25:14.288014",
     "status": "completed"
    },
    "tags": []
   },
   "outputs": [
    {
     "name": "stderr",
     "output_type": "stream",
     "text": [
      "2021-09-16 22:25:14.371186: I tensorflow/compiler/jit/xla_cpu_device.cc:41] Not creating XLA devices, tf_xla_enable_xla_devices not set\n",
      "2021-09-16 22:25:14.374619: W tensorflow/stream_executor/platform/default/dso_loader.cc:60] Could not load dynamic library 'libcuda.so.1'; dlerror: libcuda.so.1: cannot open shared object file: No such file or directory; LD_LIBRARY_PATH: /opt/conda/lib\n",
      "2021-09-16 22:25:14.374652: W tensorflow/stream_executor/cuda/cuda_driver.cc:326] failed call to cuInit: UNKNOWN ERROR (303)\n",
      "2021-09-16 22:25:14.374677: I tensorflow/stream_executor/cuda/cuda_diagnostics.cc:156] kernel driver does not appear to be running on this host (78293f636b73): /proc/driver/nvidia/version does not exist\n",
      "2021-09-16 22:25:14.375058: I tensorflow/core/platform/cpu_feature_guard.cc:142] This TensorFlow binary is optimized with oneAPI Deep Neural Network Library (oneDNN) to use the following CPU instructions in performance-critical operations:  AVX2 FMA\n",
      "To enable them in other operations, rebuild TensorFlow with the appropriate compiler flags.\n",
      "2021-09-16 22:25:14.375479: I tensorflow/compiler/jit/xla_gpu_device.cc:99] Not creating XLA devices, tf_xla_enable_xla_devices not set\n"
     ]
    }
   ],
   "source": [
    "model = tf.keras.Sequential([\n",
    "    tf.keras.layers.Dense(100),\n",
    "    tf.keras.layers.Dense(10),\n",
    "    tf.keras.layers.Dense(1)\n",
    "])\n",
    "\n",
    "model.compile(loss=tf.keras.losses.mae,\n",
    "             optimizer=tf.keras.optimizers.Adam(),\n",
    "             metrics=['mae'])\n",
    "\n"
   ]
  },
  {
   "cell_type": "code",
   "execution_count": 30,
   "id": "710da71d",
   "metadata": {
    "execution": {
     "iopub.execute_input": "2021-09-16T22:25:14.536408Z",
     "iopub.status.busy": "2021-09-16T22:25:14.535644Z",
     "iopub.status.idle": "2021-09-16T22:25:23.735424Z",
     "shell.execute_reply": "2021-09-16T22:25:23.733907Z",
     "shell.execute_reply.started": "2021-09-16T22:03:25.143115Z"
    },
    "papermill": {
     "duration": 9.259633,
     "end_time": "2021-09-16T22:25:23.735719",
     "exception": false,
     "start_time": "2021-09-16T22:25:14.476086",
     "status": "completed"
    },
    "tags": []
   },
   "outputs": [
    {
     "name": "stderr",
     "output_type": "stream",
     "text": [
      "2021-09-16 22:25:14.627934: I tensorflow/compiler/mlir/mlir_graph_optimization_pass.cc:116] None of the MLIR optimization passes are enabled (registered 2)\n",
      "2021-09-16 22:25:14.646304: I tensorflow/core/platform/profile_utils/cpu_utils.cc:112] CPU Frequency: 2299995000 Hz\n"
     ]
    },
    {
     "name": "stdout",
     "output_type": "stream",
     "text": [
      "Epoch 1/200\n",
      "34/34 [==============================] - 1s 1ms/step - loss: 13296.9441 - mae: 13296.9441\n",
      "Epoch 2/200\n",
      "34/34 [==============================] - 0s 1ms/step - loss: 12950.6186 - mae: 12950.6186\n",
      "Epoch 3/200\n",
      "34/34 [==============================] - 0s 1ms/step - loss: 12711.6362 - mae: 12711.6362\n",
      "Epoch 4/200\n",
      "34/34 [==============================] - 0s 1ms/step - loss: 13385.4328 - mae: 13385.4328\n",
      "Epoch 5/200\n",
      "34/34 [==============================] - 0s 1ms/step - loss: 13262.7164 - mae: 13262.7164\n",
      "Epoch 6/200\n",
      "34/34 [==============================] - 0s 1ms/step - loss: 13053.1331 - mae: 13053.1331\n",
      "Epoch 7/200\n",
      "34/34 [==============================] - 0s 1ms/step - loss: 12971.0795 - mae: 12971.0795\n",
      "Epoch 8/200\n",
      "34/34 [==============================] - 0s 1ms/step - loss: 13150.5917 - mae: 13150.5917\n",
      "Epoch 9/200\n",
      "34/34 [==============================] - 0s 1ms/step - loss: 12717.8282 - mae: 12717.8282\n",
      "Epoch 10/200\n",
      "34/34 [==============================] - 0s 1ms/step - loss: 12598.5173 - mae: 12598.5173\n",
      "Epoch 11/200\n",
      "34/34 [==============================] - 0s 1ms/step - loss: 12585.4509 - mae: 12585.4509\n",
      "Epoch 12/200\n",
      "34/34 [==============================] - 0s 1ms/step - loss: 11409.8391 - mae: 11409.8391\n",
      "Epoch 13/200\n",
      "34/34 [==============================] - 0s 1ms/step - loss: 11575.9041 - mae: 11575.9041\n",
      "Epoch 14/200\n",
      "34/34 [==============================] - 0s 1ms/step - loss: 10794.2826 - mae: 10794.2826\n",
      "Epoch 15/200\n",
      "34/34 [==============================] - 0s 1ms/step - loss: 10536.7412 - mae: 10536.7412\n",
      "Epoch 16/200\n",
      "34/34 [==============================] - 0s 1ms/step - loss: 9906.6234 - mae: 9906.6234\n",
      "Epoch 17/200\n",
      "34/34 [==============================] - 0s 1ms/step - loss: 8909.2263 - mae: 8909.2263\n",
      "Epoch 18/200\n",
      "34/34 [==============================] - 0s 1ms/step - loss: 8699.9427 - mae: 8699.9427\n",
      "Epoch 19/200\n",
      "34/34 [==============================] - 0s 1ms/step - loss: 8240.6187 - mae: 8240.6187\n",
      "Epoch 20/200\n",
      "34/34 [==============================] - 0s 1ms/step - loss: 7925.1089 - mae: 7925.1089\n",
      "Epoch 21/200\n",
      "34/34 [==============================] - 0s 1ms/step - loss: 6996.8083 - mae: 6996.8083\n",
      "Epoch 22/200\n",
      "34/34 [==============================] - 0s 1ms/step - loss: 7145.6015 - mae: 7145.6015\n",
      "Epoch 23/200\n",
      "34/34 [==============================] - 0s 1ms/step - loss: 7447.0860 - mae: 7447.0860\n",
      "Epoch 24/200\n",
      "34/34 [==============================] - 0s 1ms/step - loss: 7090.5048 - mae: 7090.5048\n",
      "Epoch 25/200\n",
      "34/34 [==============================] - 0s 1ms/step - loss: 7657.0780 - mae: 7657.0780\n",
      "Epoch 26/200\n",
      "34/34 [==============================] - 0s 1ms/step - loss: 6803.1439 - mae: 6803.1439\n",
      "Epoch 27/200\n",
      "34/34 [==============================] - 0s 1ms/step - loss: 7131.7707 - mae: 7131.7707\n",
      "Epoch 28/200\n",
      "34/34 [==============================] - 0s 1ms/step - loss: 7321.2171 - mae: 7321.2171\n",
      "Epoch 29/200\n",
      "34/34 [==============================] - 0s 1ms/step - loss: 6588.3858 - mae: 6588.3858\n",
      "Epoch 30/200\n",
      "34/34 [==============================] - 0s 1ms/step - loss: 6940.2135 - mae: 6940.2135\n",
      "Epoch 31/200\n",
      "34/34 [==============================] - 0s 1ms/step - loss: 7106.7924 - mae: 7106.7924\n",
      "Epoch 32/200\n",
      "34/34 [==============================] - 0s 1ms/step - loss: 6529.4794 - mae: 6529.4794\n",
      "Epoch 33/200\n",
      "34/34 [==============================] - 0s 1ms/step - loss: 6592.6641 - mae: 6592.6641\n",
      "Epoch 34/200\n",
      "34/34 [==============================] - 0s 1ms/step - loss: 6401.3853 - mae: 6401.3853\n",
      "Epoch 35/200\n",
      "34/34 [==============================] - 0s 1ms/step - loss: 6373.7202 - mae: 6373.7202\n",
      "Epoch 36/200\n",
      "34/34 [==============================] - 0s 1ms/step - loss: 6160.5345 - mae: 6160.5345\n",
      "Epoch 37/200\n",
      "34/34 [==============================] - 0s 1ms/step - loss: 6221.0719 - mae: 6221.0719\n",
      "Epoch 38/200\n",
      "34/34 [==============================] - 0s 1ms/step - loss: 5688.0435 - mae: 5688.0435\n",
      "Epoch 39/200\n",
      "34/34 [==============================] - 0s 1ms/step - loss: 5969.7309 - mae: 5969.7309\n",
      "Epoch 40/200\n",
      "34/34 [==============================] - 0s 1ms/step - loss: 5816.4432 - mae: 5816.4432\n",
      "Epoch 41/200\n",
      "34/34 [==============================] - 0s 1ms/step - loss: 5728.5483 - mae: 5728.5483\n",
      "Epoch 42/200\n",
      "34/34 [==============================] - 0s 1ms/step - loss: 5608.0445 - mae: 5608.0445\n",
      "Epoch 43/200\n",
      "34/34 [==============================] - 0s 1ms/step - loss: 5577.9160 - mae: 5577.9160\n",
      "Epoch 44/200\n",
      "34/34 [==============================] - 0s 1ms/step - loss: 5348.6208 - mae: 5348.6208\n",
      "Epoch 45/200\n",
      "34/34 [==============================] - 0s 1ms/step - loss: 5332.4652 - mae: 5332.4652\n",
      "Epoch 46/200\n",
      "34/34 [==============================] - 0s 1ms/step - loss: 5102.7324 - mae: 5102.7324\n",
      "Epoch 47/200\n",
      "34/34 [==============================] - 0s 1ms/step - loss: 5596.2528 - mae: 5596.2528\n",
      "Epoch 48/200\n",
      "34/34 [==============================] - 0s 1ms/step - loss: 5250.5818 - mae: 5250.5818\n",
      "Epoch 49/200\n",
      "34/34 [==============================] - 0s 1ms/step - loss: 5002.5090 - mae: 5002.5090\n",
      "Epoch 50/200\n",
      "34/34 [==============================] - 0s 1ms/step - loss: 5205.0364 - mae: 5205.0364\n",
      "Epoch 51/200\n",
      "34/34 [==============================] - 0s 1ms/step - loss: 5096.3657 - mae: 5096.3657\n",
      "Epoch 52/200\n",
      "34/34 [==============================] - 0s 1ms/step - loss: 5044.5014 - mae: 5044.5014\n",
      "Epoch 53/200\n",
      "34/34 [==============================] - 0s 1ms/step - loss: 4681.6979 - mae: 4681.6979\n",
      "Epoch 54/200\n",
      "34/34 [==============================] - 0s 1ms/step - loss: 4971.9522 - mae: 4971.9522\n",
      "Epoch 55/200\n",
      "34/34 [==============================] - 0s 1ms/step - loss: 4728.8347 - mae: 4728.8347\n",
      "Epoch 56/200\n",
      "34/34 [==============================] - 0s 1ms/step - loss: 4696.1756 - mae: 4696.1756\n",
      "Epoch 57/200\n",
      "34/34 [==============================] - 0s 1ms/step - loss: 4958.6160 - mae: 4958.6160\n",
      "Epoch 58/200\n",
      "34/34 [==============================] - 0s 1ms/step - loss: 4641.6892 - mae: 4641.6892\n",
      "Epoch 59/200\n",
      "34/34 [==============================] - 0s 1ms/step - loss: 4345.6350 - mae: 4345.6350\n",
      "Epoch 60/200\n",
      "34/34 [==============================] - 0s 1ms/step - loss: 4470.5000 - mae: 4470.5000\n",
      "Epoch 61/200\n",
      "34/34 [==============================] - 0s 1ms/step - loss: 4691.4602 - mae: 4691.4602\n",
      "Epoch 62/200\n",
      "34/34 [==============================] - 0s 1ms/step - loss: 4456.5574 - mae: 4456.5574\n",
      "Epoch 63/200\n",
      "34/34 [==============================] - 0s 1ms/step - loss: 4356.7259 - mae: 4356.7259\n",
      "Epoch 64/200\n",
      "34/34 [==============================] - 0s 1ms/step - loss: 3946.1587 - mae: 3946.1587\n",
      "Epoch 65/200\n",
      "34/34 [==============================] - 0s 1ms/step - loss: 4071.1239 - mae: 4071.1239\n",
      "Epoch 66/200\n",
      "34/34 [==============================] - 0s 1ms/step - loss: 3809.9684 - mae: 3809.9684\n",
      "Epoch 67/200\n",
      "34/34 [==============================] - 0s 1ms/step - loss: 3841.7591 - mae: 3841.7591\n",
      "Epoch 68/200\n",
      "34/34 [==============================] - 0s 1ms/step - loss: 3843.5204 - mae: 3843.5204\n",
      "Epoch 69/200\n",
      "34/34 [==============================] - 0s 1ms/step - loss: 4026.2842 - mae: 4026.2842\n",
      "Epoch 70/200\n",
      "34/34 [==============================] - 0s 1ms/step - loss: 3592.5909 - mae: 3592.5909\n",
      "Epoch 71/200\n",
      "34/34 [==============================] - 0s 1ms/step - loss: 3779.4395 - mae: 3779.4395\n",
      "Epoch 72/200\n",
      "34/34 [==============================] - 0s 1ms/step - loss: 3533.0588 - mae: 3533.0588\n",
      "Epoch 73/200\n",
      "34/34 [==============================] - 0s 1ms/step - loss: 3899.4049 - mae: 3899.4049\n",
      "Epoch 74/200\n",
      "34/34 [==============================] - 0s 1ms/step - loss: 3755.5709 - mae: 3755.5709\n",
      "Epoch 75/200\n",
      "34/34 [==============================] - 0s 1ms/step - loss: 4036.3796 - mae: 4036.3796\n",
      "Epoch 76/200\n",
      "34/34 [==============================] - 0s 1ms/step - loss: 3590.5737 - mae: 3590.5737\n",
      "Epoch 77/200\n",
      "34/34 [==============================] - 0s 1ms/step - loss: 3885.3386 - mae: 3885.3386\n",
      "Epoch 78/200\n",
      "34/34 [==============================] - 0s 1ms/step - loss: 3560.4279 - mae: 3560.4279\n",
      "Epoch 79/200\n",
      "34/34 [==============================] - 0s 1ms/step - loss: 3226.5259 - mae: 3226.5259\n",
      "Epoch 80/200\n",
      "34/34 [==============================] - 0s 1ms/step - loss: 3336.6260 - mae: 3336.6260\n",
      "Epoch 81/200\n",
      "34/34 [==============================] - 0s 1ms/step - loss: 3614.9989 - mae: 3614.9989\n",
      "Epoch 82/200\n",
      "34/34 [==============================] - 0s 1ms/step - loss: 4145.4273 - mae: 4145.4273\n",
      "Epoch 83/200\n",
      "34/34 [==============================] - 0s 1ms/step - loss: 3741.0077 - mae: 3741.0077\n",
      "Epoch 84/200\n",
      "34/34 [==============================] - 0s 1ms/step - loss: 3549.5969 - mae: 3549.5969\n",
      "Epoch 85/200\n",
      "34/34 [==============================] - 0s 1ms/step - loss: 3199.7196 - mae: 3199.7196\n",
      "Epoch 86/200\n",
      "34/34 [==============================] - 0s 1ms/step - loss: 3734.0996 - mae: 3734.0996\n",
      "Epoch 87/200\n",
      "34/34 [==============================] - 0s 1ms/step - loss: 3620.0429 - mae: 3620.0429\n",
      "Epoch 88/200\n",
      "34/34 [==============================] - 0s 1ms/step - loss: 3758.9857 - mae: 3758.9857\n",
      "Epoch 89/200\n",
      "34/34 [==============================] - 0s 1ms/step - loss: 3471.7395 - mae: 3471.7395\n",
      "Epoch 90/200\n",
      "34/34 [==============================] - 0s 1ms/step - loss: 3862.7088 - mae: 3862.7088\n",
      "Epoch 91/200\n",
      "34/34 [==============================] - 0s 1ms/step - loss: 3690.8652 - mae: 3690.8652\n",
      "Epoch 92/200\n",
      "34/34 [==============================] - 0s 1ms/step - loss: 3760.7854 - mae: 3760.7854\n",
      "Epoch 93/200\n",
      "34/34 [==============================] - 0s 1ms/step - loss: 3529.1524 - mae: 3529.1524\n",
      "Epoch 94/200\n",
      "34/34 [==============================] - 0s 1ms/step - loss: 3448.1705 - mae: 3448.1705\n",
      "Epoch 95/200\n",
      "34/34 [==============================] - 0s 1ms/step - loss: 3621.0395 - mae: 3621.0395\n",
      "Epoch 96/200\n",
      "34/34 [==============================] - 0s 1ms/step - loss: 3825.5100 - mae: 3825.5100\n",
      "Epoch 97/200\n",
      "34/34 [==============================] - 0s 1ms/step - loss: 3472.5134 - mae: 3472.5134\n",
      "Epoch 98/200\n",
      "34/34 [==============================] - 0s 1ms/step - loss: 3463.6371 - mae: 3463.6371\n",
      "Epoch 99/200\n",
      "34/34 [==============================] - 0s 1ms/step - loss: 3241.9136 - mae: 3241.9136\n",
      "Epoch 100/200\n",
      "34/34 [==============================] - 0s 1ms/step - loss: 3448.1595 - mae: 3448.1595\n",
      "Epoch 101/200\n",
      "34/34 [==============================] - 0s 1ms/step - loss: 3568.2211 - mae: 3568.2211\n",
      "Epoch 102/200\n",
      "34/34 [==============================] - 0s 1ms/step - loss: 3484.5431 - mae: 3484.5431\n",
      "Epoch 103/200\n",
      "34/34 [==============================] - 0s 1ms/step - loss: 3276.2000 - mae: 3276.2000\n",
      "Epoch 104/200\n",
      "34/34 [==============================] - 0s 1ms/step - loss: 3735.5029 - mae: 3735.5029\n",
      "Epoch 105/200\n",
      "34/34 [==============================] - 0s 1ms/step - loss: 3434.7697 - mae: 3434.7697\n",
      "Epoch 106/200\n",
      "34/34 [==============================] - 0s 1ms/step - loss: 3664.7048 - mae: 3664.7048\n",
      "Epoch 107/200\n",
      "34/34 [==============================] - 0s 1ms/step - loss: 3815.4684 - mae: 3815.4684\n",
      "Epoch 108/200\n",
      "34/34 [==============================] - 0s 1ms/step - loss: 3634.3397 - mae: 3634.3397\n",
      "Epoch 109/200\n",
      "34/34 [==============================] - 0s 1ms/step - loss: 3880.9570 - mae: 3880.9570\n",
      "Epoch 110/200\n",
      "34/34 [==============================] - 0s 1ms/step - loss: 3983.1332 - mae: 3983.1332\n",
      "Epoch 111/200\n",
      "34/34 [==============================] - 0s 1ms/step - loss: 3815.0215 - mae: 3815.0215\n",
      "Epoch 112/200\n",
      "34/34 [==============================] - 0s 1ms/step - loss: 3579.7453 - mae: 3579.7453\n",
      "Epoch 113/200\n",
      "34/34 [==============================] - 0s 1ms/step - loss: 3593.5366 - mae: 3593.5366\n",
      "Epoch 114/200\n",
      "34/34 [==============================] - 0s 1ms/step - loss: 3774.7559 - mae: 3774.7559\n",
      "Epoch 115/200\n",
      "34/34 [==============================] - 0s 1ms/step - loss: 3624.4788 - mae: 3624.4788\n",
      "Epoch 116/200\n",
      "34/34 [==============================] - 0s 1ms/step - loss: 3863.7390 - mae: 3863.7390\n",
      "Epoch 117/200\n",
      "34/34 [==============================] - 0s 1ms/step - loss: 3556.0787 - mae: 3556.0787\n",
      "Epoch 118/200\n",
      "34/34 [==============================] - 0s 1ms/step - loss: 3578.3246 - mae: 3578.3246\n",
      "Epoch 119/200\n",
      "34/34 [==============================] - 0s 1ms/step - loss: 3698.2173 - mae: 3698.2173\n",
      "Epoch 120/200\n",
      "34/34 [==============================] - 0s 1ms/step - loss: 3823.7263 - mae: 3823.7263\n",
      "Epoch 121/200\n",
      "34/34 [==============================] - 0s 1ms/step - loss: 3842.4462 - mae: 3842.4462\n",
      "Epoch 122/200\n",
      "34/34 [==============================] - 0s 1ms/step - loss: 3622.0726 - mae: 3622.0726\n",
      "Epoch 123/200\n",
      "34/34 [==============================] - 0s 1ms/step - loss: 3498.2963 - mae: 3498.2963\n",
      "Epoch 124/200\n",
      "34/34 [==============================] - 0s 1ms/step - loss: 3453.0017 - mae: 3453.0017\n",
      "Epoch 125/200\n",
      "34/34 [==============================] - 0s 1ms/step - loss: 3735.6369 - mae: 3735.6369\n",
      "Epoch 126/200\n",
      "34/34 [==============================] - 0s 1ms/step - loss: 3597.1252 - mae: 3597.1252\n",
      "Epoch 127/200\n",
      "34/34 [==============================] - 0s 1ms/step - loss: 3667.9268 - mae: 3667.9268\n",
      "Epoch 128/200\n",
      "34/34 [==============================] - 0s 1ms/step - loss: 3574.8008 - mae: 3574.8008\n",
      "Epoch 129/200\n",
      "34/34 [==============================] - 0s 1ms/step - loss: 3748.2825 - mae: 3748.2825\n",
      "Epoch 130/200\n",
      "34/34 [==============================] - 0s 1ms/step - loss: 3596.8394 - mae: 3596.8394\n",
      "Epoch 131/200\n",
      "34/34 [==============================] - 0s 1ms/step - loss: 3492.7167 - mae: 3492.7167\n",
      "Epoch 132/200\n",
      "34/34 [==============================] - 0s 1ms/step - loss: 3829.8127 - mae: 3829.8127\n",
      "Epoch 133/200\n",
      "34/34 [==============================] - 0s 1ms/step - loss: 3739.9093 - mae: 3739.9093\n",
      "Epoch 134/200\n",
      "34/34 [==============================] - 0s 1ms/step - loss: 3718.5745 - mae: 3718.5745\n",
      "Epoch 135/200\n",
      "34/34 [==============================] - 0s 1ms/step - loss: 3579.9077 - mae: 3579.9077\n",
      "Epoch 136/200\n",
      "34/34 [==============================] - 0s 1ms/step - loss: 3544.4560 - mae: 3544.4560\n",
      "Epoch 137/200\n",
      "34/34 [==============================] - 0s 1ms/step - loss: 3443.3953 - mae: 3443.3953\n",
      "Epoch 138/200\n",
      "34/34 [==============================] - 0s 1ms/step - loss: 3786.1118 - mae: 3786.1118\n",
      "Epoch 139/200\n",
      "34/34 [==============================] - 0s 1ms/step - loss: 3461.9653 - mae: 3461.9653\n",
      "Epoch 140/200\n",
      "34/34 [==============================] - 0s 1ms/step - loss: 3595.0238 - mae: 3595.0238\n",
      "Epoch 141/200\n",
      "34/34 [==============================] - 0s 1ms/step - loss: 3859.7656 - mae: 3859.7656\n",
      "Epoch 142/200\n",
      "34/34 [==============================] - 0s 1ms/step - loss: 3495.5873 - mae: 3495.5873\n",
      "Epoch 143/200\n",
      "34/34 [==============================] - 0s 1ms/step - loss: 3563.3892 - mae: 3563.3892\n",
      "Epoch 144/200\n",
      "34/34 [==============================] - 0s 1ms/step - loss: 3701.9224 - mae: 3701.9224\n",
      "Epoch 145/200\n",
      "34/34 [==============================] - 0s 1ms/step - loss: 3850.1290 - mae: 3850.1290\n",
      "Epoch 146/200\n",
      "34/34 [==============================] - 0s 1ms/step - loss: 3617.6054 - mae: 3617.6054\n",
      "Epoch 147/200\n",
      "34/34 [==============================] - 0s 1ms/step - loss: 3640.9968 - mae: 3640.9968\n",
      "Epoch 148/200\n",
      "34/34 [==============================] - 0s 1ms/step - loss: 3533.8884 - mae: 3533.8884\n",
      "Epoch 149/200\n",
      "34/34 [==============================] - 0s 1ms/step - loss: 3374.7957 - mae: 3374.7957\n",
      "Epoch 150/200\n",
      "34/34 [==============================] - 0s 1ms/step - loss: 3692.3278 - mae: 3692.3278\n",
      "Epoch 151/200\n",
      "34/34 [==============================] - 0s 1ms/step - loss: 3623.7866 - mae: 3623.7866\n",
      "Epoch 152/200\n",
      "34/34 [==============================] - 0s 1ms/step - loss: 3500.7443 - mae: 3500.7443\n",
      "Epoch 153/200\n",
      "34/34 [==============================] - 0s 1ms/step - loss: 3443.0837 - mae: 3443.0837\n",
      "Epoch 154/200\n",
      "34/34 [==============================] - 0s 1ms/step - loss: 3702.3193 - mae: 3702.3193\n",
      "Epoch 155/200\n",
      "34/34 [==============================] - 0s 1ms/step - loss: 3450.2074 - mae: 3450.2074\n",
      "Epoch 156/200\n",
      "34/34 [==============================] - 0s 1ms/step - loss: 3413.5365 - mae: 3413.5365\n",
      "Epoch 157/200\n",
      "34/34 [==============================] - 0s 1ms/step - loss: 3352.4022 - mae: 3352.4022\n",
      "Epoch 158/200\n",
      "34/34 [==============================] - 0s 1ms/step - loss: 3625.8392 - mae: 3625.8392\n",
      "Epoch 159/200\n",
      "34/34 [==============================] - 0s 1ms/step - loss: 3475.8664 - mae: 3475.8664\n",
      "Epoch 160/200\n",
      "34/34 [==============================] - 0s 1ms/step - loss: 3553.3704 - mae: 3553.3704\n",
      "Epoch 161/200\n",
      "34/34 [==============================] - 0s 1ms/step - loss: 3465.4795 - mae: 3465.4795\n",
      "Epoch 162/200\n",
      "34/34 [==============================] - 0s 1ms/step - loss: 3562.6359 - mae: 3562.6359\n",
      "Epoch 163/200\n",
      "34/34 [==============================] - 0s 1ms/step - loss: 3391.4355 - mae: 3391.4355\n",
      "Epoch 164/200\n",
      "34/34 [==============================] - 0s 1ms/step - loss: 3513.7800 - mae: 3513.7800\n",
      "Epoch 165/200\n",
      "34/34 [==============================] - 0s 1ms/step - loss: 3411.7954 - mae: 3411.7954\n",
      "Epoch 166/200\n",
      "34/34 [==============================] - 0s 1ms/step - loss: 3661.4239 - mae: 3661.4239\n",
      "Epoch 167/200\n",
      "34/34 [==============================] - 0s 1ms/step - loss: 3722.5720 - mae: 3722.5720\n",
      "Epoch 168/200\n",
      "34/34 [==============================] - 0s 1ms/step - loss: 3641.8563 - mae: 3641.8563\n",
      "Epoch 169/200\n",
      "34/34 [==============================] - 0s 1ms/step - loss: 3430.6506 - mae: 3430.6506\n",
      "Epoch 170/200\n",
      "34/34 [==============================] - 0s 1ms/step - loss: 3792.8412 - mae: 3792.8412\n",
      "Epoch 171/200\n",
      "34/34 [==============================] - 0s 1ms/step - loss: 3570.7370 - mae: 3570.7370\n",
      "Epoch 172/200\n",
      "34/34 [==============================] - 0s 1ms/step - loss: 3615.5051 - mae: 3615.5051\n",
      "Epoch 173/200\n",
      "34/34 [==============================] - 0s 1ms/step - loss: 3654.4491 - mae: 3654.4491\n",
      "Epoch 174/200\n",
      "34/34 [==============================] - 0s 1ms/step - loss: 3411.0788 - mae: 3411.0788\n",
      "Epoch 175/200\n",
      "34/34 [==============================] - 0s 1ms/step - loss: 3682.7017 - mae: 3682.7017\n",
      "Epoch 176/200\n",
      "34/34 [==============================] - 0s 1ms/step - loss: 3667.5781 - mae: 3667.5781\n",
      "Epoch 177/200\n",
      "34/34 [==============================] - 0s 1ms/step - loss: 3519.8269 - mae: 3519.8269\n",
      "Epoch 178/200\n",
      "34/34 [==============================] - 0s 2ms/step - loss: 3748.9845 - mae: 3748.9845\n",
      "Epoch 179/200\n",
      "34/34 [==============================] - 0s 1ms/step - loss: 3251.4636 - mae: 3251.4636\n",
      "Epoch 180/200\n",
      "34/34 [==============================] - 0s 1ms/step - loss: 3674.3967 - mae: 3674.3967\n",
      "Epoch 181/200\n",
      "34/34 [==============================] - 0s 1ms/step - loss: 3731.1215 - mae: 3731.1215\n",
      "Epoch 182/200\n",
      "34/34 [==============================] - 0s 1ms/step - loss: 3565.2581 - mae: 3565.2581\n",
      "Epoch 183/200\n",
      "34/34 [==============================] - 0s 1ms/step - loss: 3317.8822 - mae: 3317.8822\n",
      "Epoch 184/200\n",
      "34/34 [==============================] - 0s 1ms/step - loss: 3362.0617 - mae: 3362.0617\n",
      "Epoch 185/200\n",
      "34/34 [==============================] - 0s 1ms/step - loss: 3290.7698 - mae: 3290.7698\n",
      "Epoch 186/200\n",
      "34/34 [==============================] - 0s 1ms/step - loss: 3614.4954 - mae: 3614.4954\n",
      "Epoch 187/200\n",
      "34/34 [==============================] - 0s 1ms/step - loss: 3602.4891 - mae: 3602.4891\n",
      "Epoch 188/200\n",
      "34/34 [==============================] - 0s 1ms/step - loss: 3465.3134 - mae: 3465.3134\n",
      "Epoch 189/200\n",
      "34/34 [==============================] - 0s 1ms/step - loss: 3274.2285 - mae: 3274.2285\n",
      "Epoch 190/200\n",
      "34/34 [==============================] - 0s 1ms/step - loss: 3554.1697 - mae: 3554.1697\n",
      "Epoch 191/200\n",
      "34/34 [==============================] - 0s 1ms/step - loss: 3352.2641 - mae: 3352.2641\n",
      "Epoch 192/200\n",
      "34/34 [==============================] - 0s 1ms/step - loss: 3335.8007 - mae: 3335.8007\n",
      "Epoch 193/200\n",
      "34/34 [==============================] - 0s 1ms/step - loss: 3370.9364 - mae: 3370.9364\n",
      "Epoch 194/200\n",
      "34/34 [==============================] - 0s 1ms/step - loss: 3663.1891 - mae: 3663.1891\n",
      "Epoch 195/200\n",
      "34/34 [==============================] - 0s 1ms/step - loss: 3369.8539 - mae: 3369.8539\n",
      "Epoch 196/200\n",
      "34/34 [==============================] - 0s 1ms/step - loss: 3317.4531 - mae: 3317.4531\n",
      "Epoch 197/200\n",
      "34/34 [==============================] - 0s 1ms/step - loss: 3629.6957 - mae: 3629.6957\n",
      "Epoch 198/200\n",
      "34/34 [==============================] - 0s 1ms/step - loss: 3200.1858 - mae: 3200.1858\n",
      "Epoch 199/200\n",
      "34/34 [==============================] - 0s 1ms/step - loss: 3545.1365 - mae: 3545.1365\n",
      "Epoch 200/200\n",
      "34/34 [==============================] - 0s 1ms/step - loss: 3662.9805 - mae: 3662.9805\n"
     ]
    }
   ],
   "source": [
    "history = model.fit(X_train_normal,y_train,epochs=200)"
   ]
  },
  {
   "cell_type": "code",
   "execution_count": 31,
   "id": "54eb5ae4",
   "metadata": {
    "execution": {
     "iopub.execute_input": "2021-09-16T22:25:24.102565Z",
     "iopub.status.busy": "2021-09-16T22:25:24.101698Z",
     "iopub.status.idle": "2021-09-16T22:25:24.301644Z",
     "shell.execute_reply": "2021-09-16T22:25:24.301031Z",
     "shell.execute_reply.started": "2021-09-16T22:03:35.711319Z"
    },
    "papermill": {
     "duration": 0.385653,
     "end_time": "2021-09-16T22:25:24.301781",
     "exception": false,
     "start_time": "2021-09-16T22:25:23.916128",
     "status": "completed"
    },
    "tags": []
   },
   "outputs": [
    {
     "data": {
      "image/png": "[encoded data removed]",
      "text/plain": [
       "<Figure size 432x288 with 1 Axes>"
      ]
     },
     "metadata": {
      "needs_background": "light"
     },
     "output_type": "display_data"
    }
   ],
   "source": [
    "pd.DataFrame(history.history).plot()\n",
    "plt.ylabel(\"loss\")\n",
    "plt.xlabel(\"epochs\")\n",
    "plt.show()"
   ]
  },
  {
   "cell_type": "code",
   "execution_count": 32,
   "id": "f8b701ab",
   "metadata": {
    "execution": {
     "iopub.execute_input": "2021-09-16T22:25:24.730587Z",
     "iopub.status.busy": "2021-09-16T22:25:24.729586Z",
     "iopub.status.idle": "2021-09-16T22:25:24.903992Z",
     "shell.execute_reply": "2021-09-16T22:25:24.903095Z",
     "shell.execute_reply.started": "2021-09-16T22:03:42.203640Z"
    },
    "papermill": {
     "duration": 0.421182,
     "end_time": "2021-09-16T22:25:24.904144",
     "exception": false,
     "start_time": "2021-09-16T22:25:24.482962",
     "status": "completed"
    },
    "tags": []
   },
   "outputs": [
    {
     "name": "stdout",
     "output_type": "stream",
     "text": [
      "9/9 [==============================] - 0s 1ms/step - loss: 3159.6194 - mae: 3159.6194\n"
     ]
    },
    {
     "data": {
      "text/plain": [
       "(3159.619384765625, 3159.619384765625)"
      ]
     },
     "execution_count": 32,
     "metadata": {},
     "output_type": "execute_result"
    }
   ],
   "source": [
    "model_loss,model_mae = model.evaluate(X_test_normal,y_test)\n",
    "model_loss,model_mae"
   ]
  },
  {
   "cell_type": "code",
   "execution_count": 33,
   "id": "e40c2a72",
   "metadata": {
    "execution": {
     "iopub.execute_input": "2021-09-16T22:25:25.274427Z",
     "iopub.status.busy": "2021-09-16T22:25:25.273798Z",
     "iopub.status.idle": "2021-09-16T22:25:25.396285Z",
     "shell.execute_reply": "2021-09-16T22:25:25.395625Z",
     "shell.execute_reply.started": "2021-09-16T22:04:53.335672Z"
    },
    "papermill": {
     "duration": 0.306347,
     "end_time": "2021-09-16T22:25:25.396441",
     "exception": false,
     "start_time": "2021-09-16T22:25:25.090094",
     "status": "completed"
    },
    "tags": []
   },
   "outputs": [],
   "source": [
    "y_pred_tensor = model.predict(X_test_normal)"
   ]
  },
  {
   "cell_type": "code",
   "execution_count": 34,
   "id": "fdcd2463",
   "metadata": {
    "execution": {
     "iopub.execute_input": "2021-09-16T22:25:25.759337Z",
     "iopub.status.busy": "2021-09-16T22:25:25.758681Z",
     "iopub.status.idle": "2021-09-16T22:25:25.762012Z",
     "shell.execute_reply": "2021-09-16T22:25:25.762534Z",
     "shell.execute_reply.started": "2021-09-16T22:04:59.996943Z"
    },
    "papermill": {
     "duration": 0.187652,
     "end_time": "2021-09-16T22:25:25.762721",
     "exception": false,
     "start_time": "2021-09-16T22:25:25.575069",
     "status": "completed"
    },
    "tags": []
   },
   "outputs": [],
   "source": [
    "y_test_tensor = np.asarray(y_test)"
   ]
  },
  {
   "cell_type": "code",
   "execution_count": 35,
   "id": "b0b1a9d2",
   "metadata": {
    "execution": {
     "iopub.execute_input": "2021-09-16T22:25:26.182050Z",
     "iopub.status.busy": "2021-09-16T22:25:26.180461Z",
     "iopub.status.idle": "2021-09-16T22:25:26.894316Z",
     "shell.execute_reply": "2021-09-16T22:25:26.894806Z",
     "shell.execute_reply.started": "2021-09-16T22:05:07.540318Z"
    },
    "papermill": {
     "duration": 0.928182,
     "end_time": "2021-09-16T22:25:26.895018",
     "exception": false,
     "start_time": "2021-09-16T22:25:25.966836",
     "status": "completed"
    },
    "tags": []
   },
   "outputs": [
    {
     "data": {
      "text/plain": [
       "<AxesSubplot:ylabel='Density'>"
      ]
     },
     "execution_count": 35,
     "metadata": {},
     "output_type": "execute_result"
    },
    {
     "data": {
      "image/png": "[encoded data removed]",
      "text/plain": [
       "<Figure size 432x288 with 1 Axes>"
      ]
     },
     "metadata": {
      "needs_background": "light"
     },
     "output_type": "display_data"
    }
   ],
   "source": [
    "sns.distplot(y_pred_tensor-y_test_tensor)"
   ]
  },
  {
   "cell_type": "markdown",
   "id": "0a1a92b0",
   "metadata": {
    "papermill": {
     "duration": 0.184426,
     "end_time": "2021-09-16T22:25:27.265091",
     "exception": false,
     "start_time": "2021-09-16T22:25:27.080665",
     "status": "completed"
    },
    "tags": []
   },
   "source": [
    "### AdaBoostRegressor wins with MAE of 2897"
   ]
  }
 ],
 "metadata": {
  "kernelspec": {
   "display_name": "Python 3",
   "language": "python",
   "name": "python3"
  },
  "language_info": {
   "codemirror_mode": {
    "name": "ipython",
    "version": 3
   },
   "file_extension": ".py",
   "mimetype": "text/x-python",
   "name": "python",
   "nbconvert_exporter": "python",
   "pygments_lexer": "ipython3",
   "version": "3.6.9"
  },
  "papermill": {
   "default_parameters": {},
   "duration": 1151.301531,
   "end_time": "2021-09-16T22:25:31.039624",
   "environment_variables": {},
   "exception": null,
   "input_path": "__notebook__.ipynb",
   "output_path": "__notebook__.ipynb",
   "parameters": {},
   "start_time": "2021-09-16T22:06:19.738093",
   "version": "2.3.3"
  }
 },
 "nbformat": 4,
 "nbformat_minor": 5
}
